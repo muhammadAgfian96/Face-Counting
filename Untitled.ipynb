{
 "cells": [
  {
   "cell_type": "code",
   "execution_count": 3,
   "metadata": {},
   "outputs": [],
   "source": [
    "import numpy as np"
   ]
  },
  {
   "cell_type": "code",
   "execution_count": 37,
   "metadata": {},
   "outputs": [],
   "source": [
    "rects = [\n",
    "    [0,0,5,5],\n",
    "    [2,2,9,9],\n",
    "    [4,4,10,10],\n",
    "    [6,6,15,15]\n",
    "]"
   ]
  },
  {
   "cell_type": "code",
   "execution_count": 38,
   "metadata": {},
   "outputs": [],
   "source": [
    "kumpulanCenter= np.zeros((len(rects), 2), dtype=\"int\")"
   ]
  },
  {
   "cell_type": "code",
   "execution_count": 70,
   "metadata": {},
   "outputs": [
    {
     "data": {
      "text/plain": [
       "(23, 53)"
      ]
     },
     "execution_count": 70,
     "metadata": {},
     "output_type": "execute_result"
    }
   ],
   "source": [
    "inputCentroids = {\n",
    "    \"1\": ((23,53), [123,123,21,31]),\n",
    "    \"2\" : ((23,53), [123,123,21,31])\n",
    "}\n",
    "haha = [i[0] for i in inputCentroids.values()]\n",
    "inputCentroids[\"1\"][0]"
   ]
  },
  {
   "cell_type": "code",
   "execution_count": null,
   "metadata": {},
   "outputs": [],
   "source": [
    "[(0, (array([346, 236]), array([275, 144, 417, 329]))), \n",
    " (1, (array([112, 372]), array([ 72, 315, 153, 429]))), \n",
    " (2, (array([116, 362]), array([ 79, 302, 154, 422]))), \n",
    " (3, (array([126, 357]), array([ 88, 298, 165, 417]))), \n",
    " (4, (array([130, 352]), array([ 90, 293, 171, 411]))), \n",
    " (5, (array([135, 347]), array([ 93, 290, 177, 405]))), \n",
    " (6, (array([140, 348]), array([ 97, 291, 184, 405]))), \n",
    " (7, (array([141, 349]), array([ 97, 292, 185, 407]))), \n",
    " (8, (array([145, 351]), array([100, 294, 190, 408]))), \n",
    " (9, (array([163, 362]), array([123, 304, 204, 420]))), \n",
    " (10, (array([ 32, 232]), array([  0, 175,  64, 290]))), \n",
    " (11, (array([ 71, 226]), array([ 31, 168, 112, 284]))), \n",
    " (12, (array([ 99, 224]), array([ 58, 166, 140, 283])))]"
   ]
  },
  {
   "cell_type": "code",
   "execution_count": 32,
   "metadata": {},
   "outputs": [
    {
     "name": "stdout",
     "output_type": "stream",
     "text": [
      "{'ct': array([[2, 2],\n",
      "       [0, 0],\n",
      "       [0, 0],\n",
      "       [0, 0]])}\n",
      "{'ct': array([[2, 2],\n",
      "       [5, 5],\n",
      "       [0, 0],\n",
      "       [0, 0]])}\n",
      "{'ct': array([[2, 2],\n",
      "       [5, 5],\n",
      "       [7, 7],\n",
      "       [0, 0]])}\n",
      "{'ct': array([[ 2,  2],\n",
      "       [ 5,  5],\n",
      "       [ 7,  7],\n",
      "       [10, 10]])}\n"
     ]
    }
   ],
   "source": [
    "for (i, (startX, startY, endX, endY)) in enumerate(rects):\n",
    "    # use the bounding box coordinates to derive the centroid\n",
    "    cX = int((startX + endX) / 2.0)\n",
    "    cY = int((startY + endY) / 2.0)\n",
    "    kumpulanCenter[i] = (cX, cY)\n",
    "    print(inputCentroids)"
   ]
  },
  {
   "cell_type": "code",
   "execution_count": null,
   "metadata": {},
   "outputs": [],
   "source": [
    "OrderedDict([(0, (array([124, 256]), array([ 39, 151, 209, 361])))])"
   ]
  },
  {
   "cell_type": "code",
   "execution_count": null,
   "metadata": {},
   "outputs": [],
   "source": []
  }
 ],
 "metadata": {
  "kernelspec": {
   "display_name": "Python 3",
   "language": "python",
   "name": "python3"
  },
  "language_info": {
   "codemirror_mode": {
    "name": "ipython",
    "version": 3
   },
   "file_extension": ".py",
   "mimetype": "text/x-python",
   "name": "python",
   "nbconvert_exporter": "python",
   "pygments_lexer": "ipython3",
   "version": "3.6.9"
  }
 },
 "nbformat": 4,
 "nbformat_minor": 2
}
